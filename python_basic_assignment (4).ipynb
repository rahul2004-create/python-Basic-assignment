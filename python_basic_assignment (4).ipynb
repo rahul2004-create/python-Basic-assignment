{
  "nbformat": 4,
  "nbformat_minor": 0,
  "metadata": {
    "colab": {
      "provenance": []
    },
    "kernelspec": {
      "name": "python3",
      "display_name": "Python 3"
    },
    "language_info": {
      "name": "python"
    }
  },
  "cells": [
    {
      "cell_type": "markdown",
      "source": [
        "# python basic questions\n"
      ],
      "metadata": {
        "id": "3AIuxOdmLUEk"
      }
    },
    {
      "cell_type": "markdown",
      "source": [
        "1. What is Python, and why is it popular ?\n",
        "\n",
        "\n",
        "Ans -  Python is a high-level interpreted programing language that is easy to read and write and use for creating instuction for a computer to follow and perform a task.\n",
        "\n",
        "\n",
        "- it is popular for easy to learn and read. its syntax are very clear like english.\n",
        "\n",
        "- its use in multiple domain such as data science, machine learning ,web developing and many more.\n",
        "\n",
        "- its  also popular for its large set of library . That contains many built-in modules.\n",
        "\n",
        "- it is also have a large global community support and free resources for work and study.\n",
        "\n",
        "\n"
      ],
      "metadata": {
        "id": "ll4CwPhULPNc"
      }
    },
    {
      "cell_type": "markdown",
      "source": [
        "2. What is an interpreter in Python ?\n",
        "\n",
        "- python is a interpreted language and interpreter read the python code line by line and convert it in to machine code and runs it   immediately"
      ],
      "metadata": {
        "id": "c1ZOXpN7LSa_"
      }
    },
    {
      "cell_type": "markdown",
      "source": [
        "3. What are pre-defined keywords in Python ?\n",
        "\n",
        "- pre-define keywords  are special words in python that have a fixed meaning and functionality . we cant use them as a variable name.\n",
        "\n",
        "exam- false , none , true ,and , if and many more"
      ],
      "metadata": {
        "id": "uQedV4I-Nazn"
      }
    },
    {
      "cell_type": "markdown",
      "source": [
        "4. Can keywords be used as variable names ?\n",
        "\n",
        "- no in python keywords have a fixed meaning and fuctionality and cant used as a variable name."
      ],
      "metadata": {
        "id": "kiqsCZ3_OiQd"
      }
    },
    {
      "cell_type": "markdown",
      "source": [
        "5. What is mutability in Python ?\n",
        "\n",
        "- Mutability in python means object or containers which state or value can be changed modified after they created is called mutability.\n",
        "\n",
        "exm - list, set , dict"
      ],
      "metadata": {
        "id": "Eyp-zsgiPZjI"
      }
    },
    {
      "cell_type": "markdown",
      "source": [
        "6. Why are lists mutable, but tuples are immutable ?\n",
        "\n",
        "- list are mutable in python because their elements can be changed,add,removed after they created.\n",
        "\n",
        "- tuples are immutable in python beacuase their elements cant be changed or alter after created."
      ],
      "metadata": {
        "id": "onJzUWqGQv6x"
      }
    },
    {
      "cell_type": "markdown",
      "source": [
        "7. What is the difference between “==” and “is” operators in Python ?\n",
        "\n",
        "- in python \"==\" operator compare the value of two objects and checks if the data represent by the object is same .\n",
        "\n",
        "- \"is\" operator check if two variables refers to the exact same object in memory."
      ],
      "metadata": {
        "id": "ItqO_2bxRzCU"
      }
    },
    {
      "cell_type": "markdown",
      "source": [
        "8. What are logical operators in Python ?\n",
        "\n",
        "- logical operators in python used to combined multiple condition and they return either  true or false based on the logic.\n",
        "\n",
        "- logical operators are (and) (or) (not)\n",
        "\n"
      ],
      "metadata": {
        "id": "3VOvo-SpUOLm"
      }
    },
    {
      "cell_type": "markdown",
      "source": [
        "9. What is type casting in Python ?\n",
        "\n",
        "- Typecasting is the process of converting variable data from one data type to another."
      ],
      "metadata": {
        "id": "CYZAd3Y_YNb_"
      }
    },
    {
      "cell_type": "markdown",
      "source": [
        "10. what  is the difference between implicit and explicit type casting ?\n",
        "\n",
        "- implicit typecasting is the process where python automaticly converts a variable data to one data type to another.\n",
        "\n",
        "- explicit typecasting is the process where a progammer manually  convert one data type to another by using function like (int) (str) (float)\n",
        "            "
      ],
      "metadata": {
        "id": "Nf5vRu7QZQrn"
      }
    },
    {
      "cell_type": "markdown",
      "source": [
        "11.  What is the purpose of conditional statement?\n",
        "\n",
        "- conditional statement helps us to make decision in our code. They allow our program to run certain block of codes if the given conditions are true.\n",
        "\n",
        "exa= a=10\n",
        "\n",
        "     if a<20:\n",
        "     print(\"ok\")\n",
        "     else:\n",
        "     print(\"Not ok\")\n",
        "     ##0utput- ok"
      ],
      "metadata": {
        "id": "pbTr2F8JccSw"
      }
    },
    {
      "cell_type": "markdown",
      "source": [
        "12. How does the elif statement work ?\n",
        "\n",
        "- elif stand for else-if . its used to check multiple condition after an if statement is false and before an else statement."
      ],
      "metadata": {
        "id": "GQ5e1NlCiF24"
      }
    },
    {
      "cell_type": "markdown",
      "source": [
        "13. What is the difference between for and while loops?\n",
        " - for  loop is used when the number of iteration is known.\n",
        "\n",
        " - while loop is used when the loop depends on the condition  being true and the condition controls the repitation.\n",
        "\n",
        " - for loop iterates over a sequance like (list,range)\n",
        " - while loop repeats as long as the condition is true.\n"
      ],
      "metadata": {
        "id": "PJgB8k3Aj_OO"
      }
    },
    {
      "cell_type": "markdown",
      "source": [
        "14.  Describe a scenario where a while loop is more sutiable than a for loop?\n",
        "\n",
        "- a while loop is more preferable than a for loop when i dont know in advanced how many times i have to loop . when i just want to keep looping until the condition is true\n",
        "\n",
        "Example - user login system . where i have to loop again and again untils the user put the right password.\n",
        "\n",
        "code-\n",
        "\n",
        "\n",
        "    correct_pas = \"Rahul123\"\n",
        "    password = input(\"Enter password \")\n",
        "    while correct_pas!=password:\n",
        "    print(\"wrong password\")\n",
        "    password = input(\"Enter password\")\n",
        "    else:\n",
        "    print(\"correct password\")\n",
        "\n",
        "\n",
        " so here for loop is not sutiable because i dont  know how many times i have to loop . i have loop until i give the right password."
      ],
      "metadata": {
        "id": "MtqAU8yRk2xE"
      }
    },
    {
      "cell_type": "markdown",
      "source": [
        "# Practical Questions #"
      ],
      "metadata": {
        "id": "mDd4UAvwE7vl"
      }
    },
    {
      "cell_type": "markdown",
      "source": [
        "- so here in some place i use f\" to print the output so i dont see it on internet or copy from there  in the module 1 in the last of any video  sir show this thing and said explain it in briefly in other class  so i just try that again and again and execute here"
      ],
      "metadata": {
        "id": "lBNsD2VbIkGG"
      }
    },
    {
      "cell_type": "code",
      "source": [
        "# 1. Write a Python program to print \"Hello,World!\"\n",
        "# There wiil be multiple type of program to print this so i do some of them.\n",
        "\n",
        "a = \"Hello,World!\"\n",
        "print(a)            # 1st type\n",
        "\n",
        "a = \"Hello,\"\n",
        "b = \"World!\"\n",
        "print(a+b)          # 2nd type\n",
        "\n",
        "\n"
      ],
      "metadata": {
        "colab": {
          "base_uri": "https://localhost:8080/"
        },
        "id": "SIeiO9G8xC0a",
        "outputId": "cf55e18e-580d-4c22-c89c-66cec489da16"
      },
      "execution_count": null,
      "outputs": [
        {
          "output_type": "stream",
          "name": "stdout",
          "text": [
            "Hello,World!\n",
            "Hello,World!\n"
          ]
        }
      ]
    },
    {
      "cell_type": "code",
      "source": [
        " # 2.Write a Python program that displays your name and age.\n",
        "\n",
        "\n",
        "name = \"Debashis Sarkar\"\n",
        "age = 21\n",
        "print(f\"My name is {name} and my age is {age}\")\n"
      ],
      "metadata": {
        "colab": {
          "base_uri": "https://localhost:8080/"
        },
        "id": "X3L6lcML4zit",
        "outputId": "8381cbfd-2b2a-42e4-bfbc-dd853ca655ef"
      },
      "execution_count": null,
      "outputs": [
        {
          "output_type": "stream",
          "name": "stdout",
          "text": [
            "My name is Debashis Sarkar and my age is 21\n"
          ]
        }
      ]
    },
    {
      "cell_type": "code",
      "source": [
        "# 3. Write code to print all the pre-defined keywords in Python using the keyword library ?\n",
        "\n",
        "import keyword\n",
        "\n",
        "print(keyword.kwlist)\n",
        "       #or\n",
        "\n",
        "help(\"keywords\")\n"
      ],
      "metadata": {
        "colab": {
          "base_uri": "https://localhost:8080/"
        },
        "id": "5FSzFsks41Un",
        "outputId": "b27d81a0-c17b-4d0c-e60a-6f48d48bd589"
      },
      "execution_count": null,
      "outputs": [
        {
          "output_type": "stream",
          "name": "stdout",
          "text": [
            "['False', 'None', 'True', 'and', 'as', 'assert', 'async', 'await', 'break', 'class', 'continue', 'def', 'del', 'elif', 'else', 'except', 'finally', 'for', 'from', 'global', 'if', 'import', 'in', 'is', 'lambda', 'nonlocal', 'not', 'or', 'pass', 'raise', 'return', 'try', 'while', 'with', 'yield']\n",
            "\n",
            "Here is a list of the Python keywords.  Enter any keyword to get more help.\n",
            "\n",
            "False               class               from                or\n",
            "None                continue            global              pass\n",
            "True                def                 if                  raise\n",
            "and                 del                 import              return\n",
            "as                  elif                in                  try\n",
            "assert              else                is                  while\n",
            "async               except              lambda              with\n",
            "await               finally             nonlocal            yield\n",
            "break               for                 not                 \n",
            "\n"
          ]
        }
      ]
    },
    {
      "cell_type": "code",
      "source": [
        "# 4. Write a program that checks if a given word is a Python keyword.\n",
        "a = 'False', 'None', 'True', 'and', 'as', 'assert', 'async', 'await', 'break', 'class', 'continue', 'def', 'del', 'elif', 'else', 'except', 'finally', 'for', 'from', 'global', 'if', 'import', 'in', 'is', 'lambda', 'nonlocal', 'not', 'or', 'pass', 'raise', 'return', 'try', 'while', 'with', 'yield'\n",
        "input1= input(\"Enter a word \")\n",
        "if input1 in a:\n",
        "  print(f\"'{input1}' is a Python keyword.\")\n",
        "else:\n",
        "  print(f\"'{input1}' is NOT a Python keyword.\")"
      ],
      "metadata": {
        "colab": {
          "base_uri": "https://localhost:8080/"
        },
        "id": "ybbxZBpY7Tee",
        "outputId": "a8d7bd72-4b75-4582-a929-b5e1adc64c77"
      },
      "execution_count": 5,
      "outputs": [
        {
          "output_type": "stream",
          "name": "stdout",
          "text": [
            "Enter a word for\n",
            "'for' is a Python keyword.\n"
          ]
        }
      ]
    },
    {
      "cell_type": "code",
      "metadata": {
        "colab": {
          "base_uri": "https://localhost:8080/",
          "height": 270
        },
        "id": "874e7196",
        "outputId": "9c69fae1-1911-4f22-f8ea-74ac1a89b017"
      },
      "source": [
        "# 5. Create a list and tuple in Python, and demonstrate how attempting to change an element works differently  for each ?\n",
        "\n",
        "# this is a list\n",
        "my_list = [1, 2, 3, 4, 5]\n",
        "print(f\"Original list: {my_list}\")\n",
        "\n",
        "# now attemting to change in an element\n",
        "my_list[2] = 10\n",
        "print(f\"list after changing an element {my_list}\")\n",
        "\n",
        "#this is a list\n",
        "my_tuple = (1, 2, 3, 4, 5)\n",
        "print(f\"Original tuple: {my_tuple}\")\n",
        "\n",
        "# now attemting to change in an element\n",
        "my_tuple[2] = 10\n",
        "print(f\"tuple after changing an element {my_tuple}\")\n",
        "\n",
        "# Here changing element of list is sucessfully happening but when try to change\n",
        "#the element of tuple it will throw an error beacuase in python list are mutable\n",
        "# and tuples are immmutable because their elements cant be changed after they\n",
        "#created."
      ],
      "execution_count": 3,
      "outputs": [
        {
          "output_type": "stream",
          "name": "stdout",
          "text": [
            "Original list: [1, 2, 3, 4, 5]\n",
            "list after changing an element [1, 2, 10, 4, 5]\n",
            "Original tuple: (1, 2, 3, 4, 5)\n"
          ]
        },
        {
          "output_type": "error",
          "ename": "TypeError",
          "evalue": "'tuple' object does not support item assignment",
          "traceback": [
            "\u001b[0;31m---------------------------------------------------------------------------\u001b[0m",
            "\u001b[0;31mTypeError\u001b[0m                                 Traceback (most recent call last)",
            "\u001b[0;32m/tmp/ipython-input-4159338069.py\u001b[0m in \u001b[0;36m<cell line: 0>\u001b[0;34m()\u001b[0m\n\u001b[1;32m     14\u001b[0m \u001b[0;34m\u001b[0m\u001b[0m\n\u001b[1;32m     15\u001b[0m \u001b[0;31m# now attemting to change in an element\u001b[0m\u001b[0;34m\u001b[0m\u001b[0;34m\u001b[0m\u001b[0m\n\u001b[0;32m---> 16\u001b[0;31m \u001b[0mmy_tuple\u001b[0m\u001b[0;34m[\u001b[0m\u001b[0;36m2\u001b[0m\u001b[0;34m]\u001b[0m \u001b[0;34m=\u001b[0m \u001b[0;36m10\u001b[0m\u001b[0;34m\u001b[0m\u001b[0;34m\u001b[0m\u001b[0m\n\u001b[0m\u001b[1;32m     17\u001b[0m \u001b[0mprint\u001b[0m\u001b[0;34m(\u001b[0m\u001b[0;34mf\"tuple after changing an element {my_tuple}\"\u001b[0m\u001b[0;34m)\u001b[0m\u001b[0;34m\u001b[0m\u001b[0;34m\u001b[0m\u001b[0m\n\u001b[1;32m     18\u001b[0m \u001b[0;34m\u001b[0m\u001b[0m\n",
            "\u001b[0;31mTypeError\u001b[0m: 'tuple' object does not support item assignment"
          ]
        }
      ]
    },
    {
      "cell_type": "code",
      "metadata": {
        "colab": {
          "base_uri": "https://localhost:8080/",
          "height": 234
        },
        "id": "563587bf",
        "outputId": "5dda5991-4b0b-4a4e-9f2e-88cd5def35ea"
      },
      "source": [
        "# 6. Write a function to demonstrate the behavior of mutable and immutable arguments.\n",
        "\n",
        "lst = [3 ,4,501,55,5555,44,]\n",
        "lst[5]= 100                # this is a behaviour of a mutable argument that it can be changed\n",
        "print(lst)\n",
        "\n",
        "\n",
        "    #or\n",
        "\n",
        "tup =(34,55,6,6,4,33)\n",
        "tup[2]=7                      # and this an immutable arguments that it cant be changed after creates\n",
        "\n",
        "\n",
        "\n"
      ],
      "execution_count": null,
      "outputs": [
        {
          "output_type": "stream",
          "name": "stdout",
          "text": [
            "[3, 4, 501, 55, 5555, 100]\n"
          ]
        },
        {
          "output_type": "error",
          "ename": "TypeError",
          "evalue": "'tuple' object does not support item assignment",
          "traceback": [
            "\u001b[0;31m---------------------------------------------------------------------------\u001b[0m",
            "\u001b[0;31mTypeError\u001b[0m                                 Traceback (most recent call last)",
            "\u001b[0;32m/tmp/ipython-input-774854723.py\u001b[0m in \u001b[0;36m<cell line: 0>\u001b[0;34m()\u001b[0m\n\u001b[1;32m      9\u001b[0m \u001b[0;34m\u001b[0m\u001b[0m\n\u001b[1;32m     10\u001b[0m \u001b[0mtup\u001b[0m \u001b[0;34m=\u001b[0m\u001b[0;34m(\u001b[0m\u001b[0;36m34\u001b[0m\u001b[0;34m,\u001b[0m\u001b[0;36m55\u001b[0m\u001b[0;34m,\u001b[0m\u001b[0;36m6\u001b[0m\u001b[0;34m,\u001b[0m\u001b[0;36m6\u001b[0m\u001b[0;34m,\u001b[0m\u001b[0;36m4\u001b[0m\u001b[0;34m,\u001b[0m\u001b[0;36m33\u001b[0m\u001b[0;34m)\u001b[0m\u001b[0;34m\u001b[0m\u001b[0;34m\u001b[0m\u001b[0m\n\u001b[0;32m---> 11\u001b[0;31m \u001b[0mtup\u001b[0m\u001b[0;34m[\u001b[0m\u001b[0;36m2\u001b[0m\u001b[0;34m]\u001b[0m\u001b[0;34m=\u001b[0m\u001b[0;36m7\u001b[0m\u001b[0;34m\u001b[0m\u001b[0;34m\u001b[0m\u001b[0m\n\u001b[0m\u001b[1;32m     12\u001b[0m \u001b[0;34m\u001b[0m\u001b[0m\n\u001b[1;32m     13\u001b[0m \u001b[0;34m\u001b[0m\u001b[0m\n",
            "\u001b[0;31mTypeError\u001b[0m: 'tuple' object does not support item assignment"
          ]
        }
      ]
    },
    {
      "cell_type": "code",
      "source": [
        "# 7. Write a program that performs basic arithmetic operations on two user-input numbers?\n",
        "\n",
        "user_input = float(input(\"Enter first Number \"))\n",
        "user_input2 = float(input(\"Enter second Number \"))\n",
        "sum = user_input + user_input2\n",
        "sub = user_input - user_input2\n",
        "mul = user_input * user_input2\n",
        "div = user_input / user_input2\n",
        "\n",
        "print(f\"sum of two number is {sum}\")\n",
        "print(f\"sub of two number is {sub}\")\n",
        "print(f\"mul of two number is {mul}\")\n",
        "print(f\"div of two number is {div}\")\n",
        "\n",
        "\n",
        "\n",
        "#or\n",
        "\n",
        "\n",
        "print(\"---Different type---\")\n",
        "\n",
        "n = int(input(\"Enter first Number \"))\n",
        "n2 = int(input(\"Enter second Number \"))\n",
        "n3 = input(\"Enter operator \")\n",
        "if n3 == \"+\":\n",
        "  print(f\"sum of two number is {n+n2}\")\n",
        "elif n3 == \"-\":\n",
        "  print(f\"sub of two number is {n-n2}\")\n",
        "\n",
        "elif n3 == \"*\":\n",
        "  print(f\"mul of two number is {n*n2}\")\n",
        "elif n3 == \"/\":\n",
        "  print(f\"div of two number is {n/n2}\")\n",
        "else:\n",
        "  print(\"Invalid operator\")\n"
      ],
      "metadata": {
        "colab": {
          "base_uri": "https://localhost:8080/"
        },
        "id": "hsQVg-0QBDup",
        "outputId": "af90a250-cf08-4746-a6ec-ef012f74c058"
      },
      "execution_count": 9,
      "outputs": [
        {
          "output_type": "stream",
          "name": "stdout",
          "text": [
            "Enter first Number 5\n",
            "Enter second Number 10\n",
            "sum of two number is 15.0\n",
            "sub of two number is -5.0\n",
            "mul of two number is 50.0\n",
            "div of two number is 0.5\n",
            "---Different type---\n",
            "Enter first Number 5\n",
            "Enter second Number 10\n",
            "Enter operator *\n",
            "mul of two number is 50\n"
          ]
        }
      ]
    },
    {
      "cell_type": "code",
      "source": [
        "# 8.  Write a program to demonstrate the use of logical operators?\n",
        "\n",
        " # logical operators are - (and) (or) (Not)\n",
        "\n",
        " # (and) operator give a output - true. if two given condition are right if one of those are not true then\n",
        " # it give output false\n",
        "\n",
        "print(\" ---- 'and' -----  \")\n",
        "\n",
        "print(10<20 and 55>40)  # it will give true\n",
        "print(10<5 and 55>40)   # it will give false\n",
        "\n",
        "\n",
        "a = 2<5\n",
        "b = 10>50\n",
        "\n",
        "if a and b:          #2nd type - here a = true but b = false so for that reason\n",
        "    print(\"ok\")\n",
        "else:                  #  its go to the else statement and print \"Not ok\"\n",
        "     print(\"Not ok\")\n",
        "\n",
        " # 'or' operator gives a true value if one of the two condition is true\n",
        " # if both condition are false then its give a false value\n",
        "\n",
        "print(\"--- 'or' ---\")\n",
        "print(10<20 or 55>40)  # it will give true\n",
        "print(10<5 or 55>60)   # it will give false\n",
        "\n",
        "\n",
        "c = 2<6\n",
        "d = 5>1\n",
        "\n",
        "if c or d:\n",
        "  print(\"ok\")    # it is print \"ok\" because one of the two condition is true.\n",
        "else:\n",
        "    print(\"not ok\")\n",
        "\n",
        "\n",
        "        # not operator use to change the value of a real condition\n",
        "\n",
        "print(\"--- 'not' ---\")\n",
        "\n",
        "e = 5<7\n",
        "not e  # here e = 5<7 is true but i use \"not\" so its print false"
      ],
      "metadata": {
        "colab": {
          "base_uri": "https://localhost:8080/"
        },
        "id": "jFD97l8fEoOr",
        "outputId": "3b3c214d-7b63-445a-ea33-284f2c9b5346"
      },
      "execution_count": null,
      "outputs": [
        {
          "output_type": "stream",
          "name": "stdout",
          "text": [
            " ---- 'and' -----  \n",
            "True\n",
            "False\n",
            "Not ok\n",
            "--- 'or' ---\n",
            "True\n",
            "False\n",
            "ok\n",
            "--- 'not' ---\n"
          ]
        },
        {
          "output_type": "execute_result",
          "data": {
            "text/plain": [
              "False"
            ]
          },
          "metadata": {},
          "execution_count": 33
        }
      ]
    },
    {
      "cell_type": "code",
      "source": [
        "# 9.  Write a Python program to convert user input from string to integer, float, and boolean types?\n",
        "\n",
        "f = \"50\"\n",
        "g = \"30\"\n",
        "t = 50\n",
        "sum =int(f)+int(g) # here i convert the strings to int and do calculation by using int\n",
        "print(sum)\n",
        "\n",
        "sub = float(f)-float(g) # here i convert the strings to float and do calculation by using float\n",
        "print(sub)\n",
        "\n",
        "bool(f)  # here i convert the string \"50\" to a boolean by using bool\n",
        "print(bool(f))\n"
      ],
      "metadata": {
        "colab": {
          "base_uri": "https://localhost:8080/"
        },
        "id": "o0RW8-bxSaEO",
        "outputId": "d54185ac-e9ba-41cc-831b-509c902fe0b2"
      },
      "execution_count": null,
      "outputs": [
        {
          "output_type": "stream",
          "name": "stdout",
          "text": [
            "80\n",
            "20.0\n",
            "True\n"
          ]
        }
      ]
    },
    {
      "cell_type": "code",
      "source": [
        "# 10. Write code to demonstrate type casting with list elements?\n",
        "\n",
        "my_list = [34,4,55,65,\"Rahul\"]\n",
        "str(my_list[0]) # convert the int 55  to stn '55'\n"
      ],
      "metadata": {
        "colab": {
          "base_uri": "https://localhost:8080/",
          "height": 36
        },
        "id": "wwQEmAbSUYe7",
        "outputId": "bf1cf67a-3f2f-4cb2-8298-04a3cc7ec502"
      },
      "execution_count": null,
      "outputs": [
        {
          "output_type": "execute_result",
          "data": {
            "text/plain": [
              "'34'"
            ],
            "application/vnd.google.colaboratory.intrinsic+json": {
              "type": "string"
            }
          },
          "metadata": {},
          "execution_count": 96
        }
      ]
    },
    {
      "cell_type": "code",
      "source": [
        "# 11 .Write a program that checks if a number is positive, negative, or zero.\n",
        "\n",
        "input1 = int(input(\"Enter Your Number \"))\n",
        "\n",
        "if input1>0:\n",
        "    print(\"Number is positive\")\n",
        "elif input1<0:\n",
        "    print(\"Number is negative\")\n",
        "else:\n",
        "    print(\"Number is zero\")\n",
        "\n"
      ],
      "metadata": {
        "colab": {
          "base_uri": "https://localhost:8080/"
        },
        "id": "V3q4pdmIeToD",
        "outputId": "39b2f22f-a770-429c-d21d-f6e6dff7dc95"
      },
      "execution_count": null,
      "outputs": [
        {
          "output_type": "stream",
          "name": "stdout",
          "text": [
            "Enter Your Number 55\n",
            "Number is positive\n"
          ]
        }
      ]
    },
    {
      "cell_type": "code",
      "source": [
        "# 11. Write a for loop to print numbers from 1 to 10.\n",
        "\n",
        "for i in range(1,11):\n",
        "  print(i)"
      ],
      "metadata": {
        "colab": {
          "base_uri": "https://localhost:8080/"
        },
        "id": "z4AY_sUynA0F",
        "outputId": "03016e4b-b2b6-42b3-b918-32b09e621fdd"
      },
      "execution_count": null,
      "outputs": [
        {
          "output_type": "stream",
          "name": "stdout",
          "text": [
            "1\n",
            "2\n",
            "3\n",
            "4\n",
            "5\n",
            "6\n",
            "7\n",
            "8\n",
            "9\n",
            "10\n"
          ]
        }
      ]
    },
    {
      "cell_type": "code",
      "source": [
        "# 12. Write a Python program to find the sum of all even numbers between 1 and 50\n",
        "\n",
        "sum = 0\n",
        "for i in range(1,51):\n",
        "  if i%2==0:\n",
        "    sum = sum+i\n",
        "print(F\"sum of all even number between 1 and 50 = {sum}\")\n",
        "\n"
      ],
      "metadata": {
        "colab": {
          "base_uri": "https://localhost:8080/"
        },
        "id": "Rb0dGYK0nqAB",
        "outputId": "6cc7028b-6bc5-4162-d096-7761a6da77bf"
      },
      "execution_count": null,
      "outputs": [
        {
          "output_type": "stream",
          "name": "stdout",
          "text": [
            "sum of all even number between 1 and 50 = 650\n"
          ]
        }
      ]
    },
    {
      "cell_type": "code",
      "metadata": {
        "colab": {
          "base_uri": "https://localhost:8080/"
        },
        "id": "f367eff7",
        "outputId": "207be8c7-4cf4-4f60-dc28-e3db7e7bcf47"
      },
      "source": [
        "# 13. Write a program to reverse a string using a while loop?\n",
        "\n",
        "my_string = \"hello\"\n",
        "reversed_string = \"\"\n",
        "index = len(my_string) - 1\n",
        "\n",
        "while index >= 0:\n",
        "  reversed_string += my_string[index]\n",
        "  index -= 1\n",
        "\n",
        "print(f\"Original string: {my_string}\")\n",
        "print(f\"Reversed string: {reversed_string}\")"
      ],
      "execution_count": null,
      "outputs": [
        {
          "output_type": "stream",
          "name": "stdout",
          "text": [
            "Original string: hello\n",
            "Reversed string: olleh\n"
          ]
        }
      ]
    },
    {
      "cell_type": "code",
      "metadata": {
        "colab": {
          "base_uri": "https://localhost:8080/"
        },
        "id": "57b2f2cd",
        "outputId": "305e7e13-b2f5-4dbd-d4cb-8e56a61ad351"
      },
      "source": [
        "#14 . Write a Python program to calculate the factorial of a number provided by the user using a while loop.\n",
        "\n",
        "num = int(input(\"Enter a number: \"))\n",
        "if num < 0:\n",
        "    print(\"Factorial is not  for negative numbers.\")\n",
        "else:\n",
        " factorial = 1\n",
        "i= 1\n",
        "\n",
        "while i<= num:\n",
        "    factorial *= i\n",
        "    i += 1\n",
        "print(f\"The factorial of {num} is {factorial}\")"
      ],
      "execution_count": 6,
      "outputs": [
        {
          "output_type": "stream",
          "name": "stdout",
          "text": [
            "Enter a number: 5\n",
            "The factorial of 5 is 120\n"
          ]
        }
      ]
    },
    {
      "cell_type": "code",
      "source": [],
      "metadata": {
        "id": "aaqRgzKOJtbG"
      },
      "execution_count": null,
      "outputs": []
    }
  ]
}